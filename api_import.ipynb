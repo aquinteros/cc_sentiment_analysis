{
 "cells": [
  {
   "cell_type": "code",
   "execution_count": 9,
   "metadata": {},
   "outputs": [],
   "source": [
    "import pandas as pd\n",
    "import snscrape.modules.twitter as sntwitter\n",
    "import datetime as dt\n",
    "from tqdm.notebook import tqdm\n",
    "import seaborn as sns\n",
    "import matplotlib.pyplot as plt\n",
    "from dateutil.relativedelta import relativedelta"
   ]
  },
  {
   "cell_type": "code",
   "execution_count": 2,
   "metadata": {},
   "outputs": [],
   "source": [
    "def get_tweets(concepto, start_date, end_date, location, max_tweets):\n",
    "\n",
    "\tscrap = sntwitter.TwitterSearchScraper(concepto + ' since:' + start_date + ' until:' + end_date + 'location:' + location + ' -filter:retweets')\n",
    "\n",
    "\ttweets_list = {}\n",
    "\n",
    "\tfor i, tweet in tqdm(enumerate(scrap.get_items()), total=max_tweets):\n",
    "\t\t\n",
    "\t\ttweets_list[i] = {\n",
    "\t\t\t'date': tweet.date,\n",
    "\t\t\t'id': tweet.id,\n",
    "\t\t\t'rawContent': tweet.rawContent,\n",
    "\t\t\t'replyCount': tweet.replyCount,\n",
    "\t\t\t'retweetCount': tweet.retweetCount,\n",
    "\t\t\t'likeCount': tweet.likeCount,\n",
    "\t\t\t'quoteCount': tweet.quoteCount,\n",
    "\t\t\t'lang': tweet.lang,\n",
    "\t\t\t'place': tweet.place,\n",
    "\t\t\t'hashtags': tweet.hashtags,\n",
    "\t\t\t'mentionedUsers': tweet.mentionedUsers,\n",
    "\t\t\t'user_id': tweet.user.id,\n",
    "\t\t\t'user_name': tweet.user.username,\n",
    "\t\t\t'user_renderedDescription': tweet.user.renderedDescription,\n",
    "\t\t\t'user_join_date': tweet.user.created,\n",
    "\t\t\t'user_followers': tweet.user.followersCount,\n",
    "\t\t\t'user_location': tweet.user.location,\n",
    "\t\t\t'user_verified': tweet.user.verified,\n",
    "\t\t\t'inReplyToTweetId': str(tweet.inReplyToTweetId)\n",
    "\t\t}\n",
    "\n",
    "\t\tif i > max_tweets:\n",
    "\t\t\tbreak\n",
    "\t\n",
    "\t# return tweets_list\n",
    "\tdf = pd.DataFrame.from_dict(tweets_list, orient='index')\n",
    "\treturn df"
   ]
  },
  {
   "cell_type": "code",
   "execution_count": 14,
   "metadata": {},
   "outputs": [
    {
     "data": {
      "application/vnd.jupyter.widget-view+json": {
       "model_id": "e8025d166d6b43d6ae4c8869ab235af8",
       "version_major": 2,
       "version_minor": 0
      },
      "text/plain": [
       "  0%|          | 0/100000 [00:00<?, ?it/s]"
      ]
     },
     "metadata": {},
     "output_type": "display_data"
    }
   ],
   "source": [
    "def tweet_rollout(conceptos, months, years):\n",
    "\tfor year in years:\n",
    "\t\tfor month in months:\n",
    "\t\t\tfor concepto in conceptos:\n",
    "\t\t\t\tinit_date = str(year) + '-' + str(month) + '-01'\n",
    "\t\t\t\tdate_obj = dt.datetime.strptime(init_date, '%Y-%m-%d')\n",
    "\t\t\t\tnew_date = date_obj + relativedelta(months=1)\n",
    "\t\t\t\tfinal_date = new_date.strftime('%Y-%m-%d')\n",
    "\t\t\t\tdataset = get_tweets(concepto, init_date, final_date, 'chile', 100_000)\n",
    "\t\t\t\tdataset.to_csv('datasets/' + str(year) + '/' + concepto + '_' + str(year) + '_' + str(month) + '.csv', index=False)\n",
    "\t\t\t\tprint('año: ' + str(year) + ', mes: ' + str(month) + ', ' + concepto + ': ' + str(len(dataset)) + ' tweets')\n",
    "\n",
    "years = [2021]\n",
    "\n",
    "months = [10, 11, 12]\n",
    "\n",
    "conceptos=['Convencion_Constitucional',\n",
    "\t'Proceso_Constituyente',\n",
    "\t'Nueva_Constitucion',\n",
    "\t'Convencion_Constituyente']\n",
    "\n",
    "tweet_rollout(conceptos, months, years)"
   ]
  },
  {
   "cell_type": "code",
   "execution_count": null,
   "metadata": {},
   "outputs": [],
   "source": [
    "years = [2022]\n",
    "\n",
    "months = [1, 2, 3, 4, 5, 6, 7, 8, 9]\n",
    "\n",
    "conceptos=['Convencion_Constitucional',\n",
    "\t'Proceso_Constituyente',\n",
    "\t'Nueva_Constitucion',\n",
    "\t'Convencion_Constituyente']\n",
    "\n",
    "tweet_rollout(conceptos, months, years)"
   ]
  }
 ],
 "metadata": {
  "kernelspec": {
   "display_name": "Python 3",
   "language": "python",
   "name": "python3"
  },
  "language_info": {
   "codemirror_mode": {
    "name": "ipython",
    "version": 3
   },
   "file_extension": ".py",
   "mimetype": "text/x-python",
   "name": "python",
   "nbconvert_exporter": "python",
   "pygments_lexer": "ipython3",
   "version": "3.11.1"
  },
  "orig_nbformat": 4,
  "vscode": {
   "interpreter": {
    "hash": "4b0513afd20a5cc577fca9da950d42d1e3c742e55e08a19f57b01f1278df70cd"
   }
  }
 },
 "nbformat": 4,
 "nbformat_minor": 2
}
