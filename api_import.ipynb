{
 "cells": [
  {
   "cell_type": "code",
   "execution_count": 1,
   "metadata": {},
   "outputs": [],
   "source": [
    "import pandas as pd\n",
    "import snscrape.modules.twitter as sntwitter\n",
    "import datetime as dt\n",
    "from tqdm.notebook import tqdm\n",
    "import seaborn as sns\n",
    "import matplotlib.pyplot as plt"
   ]
  },
  {
   "cell_type": "code",
   "execution_count": 2,
   "metadata": {},
   "outputs": [],
   "source": [
    "def get_tweets(concepto, start_date, end_date, location, max_tweets):\n",
    "\n",
    "\tscrap = sntwitter.TwitterSearchScraper(concepto + ' since:' + start_date + ' until:' + end_date + 'location:' + location + ' -filter:retweets')\n",
    "\n",
    "\ttweets_list = {}\n",
    "\n",
    "\tfor i, tweet in tqdm(enumerate(scrap.get_items()), total=max_tweets):\n",
    "\t\t\n",
    "\t\ttweets_list[i] = {\n",
    "\t\t\t'date': tweet.date,\n",
    "\t\t\t'id': tweet.id,\n",
    "\t\t\t'rawContent': tweet.rawContent,\n",
    "\t\t\t'replyCount': tweet.replyCount,\n",
    "\t\t\t'retweetCount': tweet.retweetCount,\n",
    "\t\t\t'likeCount': tweet.likeCount,\n",
    "\t\t\t'quoteCount': tweet.quoteCount,\n",
    "\t\t\t'lang': tweet.lang,\n",
    "\t\t\t'place': tweet.place,\n",
    "\t\t\t'hashtags': tweet.hashtags,\n",
    "\t\t\t'mentionedUsers': tweet.mentionedUsers,\n",
    "\t\t\t'user_id': tweet.user.id,\n",
    "\t\t\t'user_name': tweet.user.username,\n",
    "\t\t\t'user_renderedDescription': tweet.user.renderedDescription,\n",
    "\t\t\t'user_join_date': tweet.user.created,\n",
    "\t\t\t'user_followers': tweet.user.followersCount,\n",
    "\t\t\t'user_location': tweet.user.location,\n",
    "\t\t\t'user_verified': tweet.user.verified,\n",
    "\t\t\t'inReplyToTweetId': str(tweet.inReplyToTweetId)\n",
    "\t\t}\n",
    "\n",
    "\t\tif i > max_tweets:\n",
    "\t\t\tbreak\n",
    "\t\n",
    "\t# return tweets_list\n",
    "\tdf = pd.DataFrame.from_dict(tweets_list, orient='index')\n",
    "\treturn df"
   ]
  },
  {
   "cell_type": "code",
   "execution_count": null,
   "metadata": {},
   "outputs": [],
   "source": [
    "conceptos=['Convencion_Constitucional',\n",
    "\t'Proceso_Constituyente',\n",
    "\t'Nueva_Constitucion',\n",
    "\t'Convencion_Constituyente']\n",
    "\n",
    "for concepto in conceptos:\n",
    "\tdataset = get_tweets(concepto, '2021-10-01', '2021-12-01', 'chile', 100_000)\n",
    "\tdataset.to_csv('datasets/2021/' + concepto + '_2021_Q4.csv', index=False)\n",
    "\tprint(concepto + ': ' + str(len(dataset)))"
   ]
  },
  {
   "cell_type": "code",
   "execution_count": 4,
   "metadata": {},
   "outputs": [
    {
     "data": {
      "application/vnd.jupyter.widget-view+json": {
       "model_id": "e10f0ab933d64d5ab7ad831003ac8fa1",
       "version_major": 2,
       "version_minor": 0
      },
      "text/plain": [
       "  0%|          | 0/100000 [00:00<?, ?it/s]"
      ]
     },
     "metadata": {},
     "output_type": "display_data"
    },
    {
     "name": "stdout",
     "output_type": "stream",
     "text": [
      "Nueva_Constitucion: 11682\n"
     ]
    }
   ],
   "source": [
    "# REZAGADOS\n",
    "conceptos=['Convencion_Constitucional',\n",
    "\t'Proceso_Constituyente',\n",
    "\t'Nueva_Constitucion',\n",
    "\t'Convencion_Constituyente']\n",
    "\n",
    "conceptos = ['Nueva_Constitucion']\n",
    "\n",
    "for concepto in conceptos:\n",
    "\tdataset = get_tweets(concepto, '2021-06-30', '2021-07-05', 'chile', 100_000)\n",
    "\tdataset.to_csv('datasets/rezagados/' + concepto + '_3.csv', index=False)\n",
    "\tprint(concepto + ': ' + str(len(dataset)))"
   ]
  }
 ],
 "metadata": {
  "kernelspec": {
   "display_name": "Python 3",
   "language": "python",
   "name": "python3"
  },
  "language_info": {
   "codemirror_mode": {
    "name": "ipython",
    "version": 3
   },
   "file_extension": ".py",
   "mimetype": "text/x-python",
   "name": "python",
   "nbconvert_exporter": "python",
   "pygments_lexer": "ipython3",
   "version": "3.11.1"
  },
  "orig_nbformat": 4,
  "vscode": {
   "interpreter": {
    "hash": "4b0513afd20a5cc577fca9da950d42d1e3c742e55e08a19f57b01f1278df70cd"
   }
  }
 },
 "nbformat": 4,
 "nbformat_minor": 2
}
