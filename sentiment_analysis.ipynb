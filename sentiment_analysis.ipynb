{
 "cells": [
  {
   "cell_type": "code",
   "execution_count": 16,
   "metadata": {},
   "outputs": [],
   "source": [
    "import openai\n",
    "import pandas as pd\n",
    "import numpy as np\n",
    "import api_key"
   ]
  },
  {
   "cell_type": "code",
   "execution_count": 17,
   "metadata": {},
   "outputs": [
    {
     "ename": "AttributeError",
     "evalue": "module 'api_key' has no attribute 'openai_key'",
     "output_type": "error",
     "traceback": [
      "\u001b[1;31m---------------------------------------------------------------------------\u001b[0m",
      "\u001b[1;31mAttributeError\u001b[0m                            Traceback (most recent call last)",
      "Cell \u001b[1;32mIn[17], line 1\u001b[0m\n\u001b[1;32m----> 1\u001b[0m openai\u001b[39m.\u001b[39mapi_key \u001b[39m=\u001b[39m api_key\u001b[39m.\u001b[39;49mopenai_key\n\u001b[0;32m      2\u001b[0m response \u001b[39m=\u001b[39m openai\u001b[39m.\u001b[39mCompletion\u001b[39m.\u001b[39mcreate(\n\u001b[0;32m      3\u001b[0m engine\u001b[39m=\u001b[39m\u001b[39m\"\u001b[39m\u001b[39mdavinci\u001b[39m\u001b[39m\"\u001b[39m,\n\u001b[0;32m      4\u001b[0m prompt\u001b[39m=\u001b[39m\u001b[39m\"\u001b[39m\u001b[39mThis is a Sentence sentiment classifier\u001b[39m\u001b[39m\\n\u001b[39;00m\u001b[39m\\n\u001b[39;00m\u001b[39m\\n\u001b[39;00m\u001b[39mSentence: \u001b[39m\u001b[39m\\\"\u001b[39;00m\u001b[39mI loved the new Batman movie!\u001b[39m\u001b[39m\\\"\u001b[39;00m\u001b[39m\\n\u001b[39;00m\u001b[39mSentiment: Positive\u001b[39m\u001b[39m\\n\u001b[39;00m\u001b[39m###\u001b[39m\u001b[39m\\n\u001b[39;00m\u001b[39mSentence: \u001b[39m\u001b[39m\\\"\u001b[39;00m\u001b[39mI hate it when my phone battery dies.\u001b[39m\u001b[39m\\\"\u001b[39;00m\u001b[39m\\n\u001b[39;00m\u001b[39mSentiment: Negative\u001b[39m\u001b[39m\\n\u001b[39;00m\u001b[39m###\u001b[39m\u001b[39m\\n\u001b[39;00m\u001b[39mSentence: \u001b[39m\u001b[39m\\\"\u001b[39;00m\u001b[39mMy day has been 👍\u001b[39m\u001b[39m\\\"\u001b[39;00m\u001b[39m\\n\u001b[39;00m\u001b[39mSentiment: Positive\u001b[39m\u001b[39m\\n\u001b[39;00m\u001b[39m###\u001b[39m\u001b[39m\\n\u001b[39;00m\u001b[39mSentence: \u001b[39m\u001b[39m\\\"\u001b[39;00m\u001b[39mThis is the link to the article\u001b[39m\u001b[39m\\\"\u001b[39;00m\u001b[39m\\n\u001b[39;00m\u001b[39mSentiment: Neutral\u001b[39m\u001b[39m\\n\u001b[39;00m\u001b[39m###\u001b[39m\u001b[39m\\n\u001b[39;00m\u001b[39mSentence: Sentence: \u001b[39m\u001b[39m\\n\u001b[39;00m\u001b[39m Un aplauso para el SECRETARIO de la #ConvencionConstitucional y su equipo! Notable que estén más de 12 horas en donde no son capaces de ponerse de acuerdo! 118 de 155 votos tiene la izquierda! Impresentable!!! 😡,\u001b[39m\u001b[39m\\n\u001b[39;00m\u001b[39m Sentiment:\u001b[39m\u001b[39m\"\u001b[39m,\n\u001b[1;32m   (...)\u001b[0m\n\u001b[0;32m      9\u001b[0m presence_penalty\u001b[39m=\u001b[39m\u001b[39m0.0\u001b[39m,\n\u001b[0;32m     10\u001b[0m stop\u001b[39m=\u001b[39m[\u001b[39m\"\u001b[39m\u001b[39m###\u001b[39m\u001b[39m\"\u001b[39m])\n\u001b[0;32m     11\u001b[0m \u001b[39mprint\u001b[39m (response)\n",
      "\u001b[1;31mAttributeError\u001b[0m: module 'api_key' has no attribute 'openai_key'"
     ]
    }
   ],
   "source": [
    "openai.api_key = api_key.openai_key\n",
    "response = openai.Completion.create(\n",
    "engine=\"davinci\",\n",
    "prompt=\"This is a Sentence sentiment classifier\\n\\n\\nSentence: \\\"I loved the new Batman movie!\\\"\\nSentiment: Positive\\n###\\nSentence: \\\"I hate it when my phone battery dies.\\\"\\nSentiment: Negative\\n###\\nSentence: \\\"My day has been 👍\\\"\\nSentiment: Positive\\n###\\nSentence: \\\"This is the link to the article\\\"\\nSentiment: Neutral\\n###\\nSentence: Sentence: \\n Un aplauso para el SECRETARIO de la #ConvencionConstitucional y su equipo! Notable que estén más de 12 horas en donde no son capaces de ponerse de acuerdo! 118 de 155 votos tiene la izquierda! Impresentable!!! 😡,\\n Sentiment:\",\n",
    "temperature=0.3,\n",
    "max_tokens=60,\n",
    "top_p=1.0,\n",
    "frequency_penalty=0.5,\n",
    "presence_penalty=0.0,\n",
    "stop=[\"###\"])\n",
    "print (response)"
   ]
  }
 ],
 "metadata": {
  "kernelspec": {
   "display_name": "Python 3",
   "language": "python",
   "name": "python3"
  },
  "language_info": {
   "codemirror_mode": {
    "name": "ipython",
    "version": 3
   },
   "file_extension": ".py",
   "mimetype": "text/x-python",
   "name": "python",
   "nbconvert_exporter": "python",
   "pygments_lexer": "ipython3",
   "version": "3.11.0"
  },
  "orig_nbformat": 4,
  "vscode": {
   "interpreter": {
    "hash": "4b0513afd20a5cc577fca9da950d42d1e3c742e55e08a19f57b01f1278df70cd"
   }
  }
 },
 "nbformat": 4,
 "nbformat_minor": 2
}
