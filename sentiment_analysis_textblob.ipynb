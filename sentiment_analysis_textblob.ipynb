{
 "cells": [
  {
   "cell_type": "code",
   "execution_count": 1,
   "metadata": {},
   "outputs": [],
   "source": [
    "import fastparquet\n",
    "import pandas as pd\n",
    "import datetime as dt\n",
    "import seaborn as sns\n",
    "import matplotlib.pyplot as plt\n",
    "from textblob import TextBlob"
   ]
  },
  {
   "cell_type": "code",
   "execution_count": 3,
   "metadata": {},
   "outputs": [],
   "source": [
    "# Read the data\n",
    "df = pd.read_csv('datasets/dataset_mencion1.csv', parse_dates=['date'])"
   ]
  },
  {
   "cell_type": "code",
   "execution_count": 4,
   "metadata": {},
   "outputs": [
    {
     "name": "stdout",
     "output_type": "stream",
     "text": [
      "<class 'pandas.core.frame.DataFrame'>\n",
      "RangeIndex: 100002 entries, 0 to 100001\n",
      "Data columns (total 24 columns):\n",
      " #   Column                    Non-Null Count   Dtype              \n",
      "---  ------                    --------------   -----              \n",
      " 0   date                      100002 non-null  datetime64[ns, UTC]\n",
      " 1   id                        100002 non-null  int64              \n",
      " 2   rawContent                100002 non-null  object             \n",
      " 3   replyCount                100002 non-null  int64              \n",
      " 4   retweetCount              100002 non-null  int64              \n",
      " 5   likeCount                 100002 non-null  int64              \n",
      " 6   quoteCount                100002 non-null  int64              \n",
      " 7   viewCount                 0 non-null       float64            \n",
      " 8   lang                      100002 non-null  object             \n",
      " 9   coordinates               3324 non-null    object             \n",
      " 10  place                     3324 non-null    object             \n",
      " 11  hashtags                  63839 non-null   object             \n",
      " 12  mentionedUsers            30988 non-null   object             \n",
      " 13  user_id                   100002 non-null  int64              \n",
      " 14  user_name                 100002 non-null  object             \n",
      " 15  user_renderedDescription  92465 non-null   object             \n",
      " 16  user_join_date            100002 non-null  object             \n",
      " 17  user_followers            100002 non-null  int64              \n",
      " 18  user_location             73185 non-null   object             \n",
      " 19  user_verified             100002 non-null  bool               \n",
      " 20  inReplyToTweetId          15289 non-null   float64            \n",
      " 21  date_day                  100002 non-null  object             \n",
      " 22  date_month                100002 non-null  object             \n",
      " 23  sentiment                 100002 non-null  float64            \n",
      "dtypes: bool(1), datetime64[ns, UTC](1), float64(3), int64(7), object(12)\n",
      "memory usage: 17.6+ MB\n"
     ]
    }
   ],
   "source": [
    "df.info()"
   ]
  },
  {
   "cell_type": "code",
   "execution_count": null,
   "metadata": {},
   "outputs": [],
   "source": [
    "# parse date\n",
    "# df['date'] = pd.to_datetime(df['date'])\n",
    "df['date_day'] = df['date'].dt.date\n",
    "df['date_month'] = df['date'].dt.strftime('%Y-%m')"
   ]
  },
  {
   "cell_type": "code",
   "execution_count": null,
   "metadata": {},
   "outputs": [],
   "source": [
    "# set sns style\n",
    "sns.set_style('whitegrid')\n",
    "sns.set_palette('afmhot')"
   ]
  },
  {
   "cell_type": "code",
   "execution_count": null,
   "metadata": {},
   "outputs": [],
   "source": [
    "# basic plot de datos\n",
    "fig, ax = plt.subplots(figsize=(14, 8))\n",
    "sns.countplot(x='date_month', data=df, ax=ax)\n",
    "plt.show()"
   ]
  },
  {
   "cell_type": "code",
   "execution_count": null,
   "metadata": {},
   "outputs": [],
   "source": [
    "# analisis de sentimiento\n",
    "df['sentiment'] = df['rawContent'].apply(lambda x: TextBlob(x).sentiment.polarity)"
   ]
  },
  {
   "cell_type": "code",
   "execution_count": null,
   "metadata": {},
   "outputs": [],
   "source": [
    "# plot sentimiento\n",
    "fig, ax = plt.subplots(figsize=(14, 8))\n",
    "sns.scatterplot(x='date_day', y='sentiment', data=df, ax=ax, alpha=0.8)\n",
    "plt.show()"
   ]
  },
  {
   "cell_type": "code",
   "execution_count": null,
   "metadata": {},
   "outputs": [],
   "source": [
    "# plot sentimiento\n",
    "avg_day = df[['date_day', 'sentiment']].groupby('date_day').mean()\n",
    "\n",
    "fig, ax = plt.subplots(figsize=(14, 8))\n",
    "sns.lineplot(x=avg_day.index, y='sentiment', data=avg_day, ax=ax)\n",
    "plt.show()"
   ]
  }
 ],
 "metadata": {
  "kernelspec": {
   "display_name": "Python 3",
   "language": "python",
   "name": "python3"
  },
  "language_info": {
   "codemirror_mode": {
    "name": "ipython",
    "version": 3
   },
   "file_extension": ".py",
   "mimetype": "text/x-python",
   "name": "python",
   "nbconvert_exporter": "python",
   "pygments_lexer": "ipython3",
   "version": "3.11.1"
  },
  "orig_nbformat": 4,
  "vscode": {
   "interpreter": {
    "hash": "4b0513afd20a5cc577fca9da950d42d1e3c742e55e08a19f57b01f1278df70cd"
   }
  }
 },
 "nbformat": 4,
 "nbformat_minor": 2
}
