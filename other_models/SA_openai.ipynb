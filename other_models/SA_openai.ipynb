{
 "cells": [
  {
   "cell_type": "code",
   "execution_count": 1,
   "metadata": {},
   "outputs": [],
   "source": [
    "import openai\n",
    "import pandas as pd\n",
    "import numpy as np\n",
    "import api_key"
   ]
  },
  {
   "cell_type": "code",
   "execution_count": 2,
   "metadata": {},
   "outputs": [
    {
     "name": "stdout",
     "output_type": "stream",
     "text": [
      "{\n",
      "  \"choices\": [\n",
      "    {\n",
      "      \"finish_reason\": \"stop\",\n",
      "      \"index\": 0,\n",
      "      \"logprobs\": null,\n",
      "      \"text\": \" Negative\\n\"\n",
      "    }\n",
      "  ],\n",
      "  \"created\": 1675737252,\n",
      "  \"id\": \"cmpl-6h868kfq9s4doZkzCPd3czaWeypj2\",\n",
      "  \"model\": \"davinci\",\n",
      "  \"object\": \"text_completion\",\n",
      "  \"usage\": {\n",
      "    \"completion_tokens\": 2,\n",
      "    \"prompt_tokens\": 176,\n",
      "    \"total_tokens\": 178\n",
      "  }\n",
      "}\n"
     ]
    }
   ],
   "source": [
    "openai.api_key = api_key.openai_key\n",
    "response = openai.Completion.create(\n",
    "engine=\"davinci\",\n",
    "prompt=\"This is a Sentence sentiment classifier\\n\\n\\nSentence: \\\"I loved the new Batman movie!\\\"\\nSentiment: Positive\\n###\\nSentence: \\\"I hate it when my phone battery dies.\\\"\\nSentiment: Negative\\n###\\nSentence: \\\"My day has been 👍\\\"\\nSentiment: Positive\\n###\\nSentence: \\\"This is the link to the article\\\"\\nSentiment: Neutral\\n###\\nSentence: Sentence: \\n Un aplauso para el SECRETARIO de la #ConvencionConstitucional y su equipo! Notable que estén más de 12 horas en donde no son capaces de ponerse de acuerdo! 118 de 155 votos tiene la izquierda! Impresentable!!! 😡,\\n Sentiment:\",\n",
    "temperature=0.3,\n",
    "max_tokens=60,\n",
    "top_p=1.0,\n",
    "frequency_penalty=0.5,\n",
    "presence_penalty=0.0,\n",
    "stop=[\"###\"])\n",
    "print (response)"
   ]
  }
 ],
 "metadata": {
  "kernelspec": {
   "display_name": "Python 3",
   "language": "python",
   "name": "python3"
  },
  "language_info": {
   "codemirror_mode": {
    "name": "ipython",
    "version": 3
   },
   "file_extension": ".py",
   "mimetype": "text/x-python",
   "name": "python",
   "nbconvert_exporter": "python",
   "pygments_lexer": "ipython3",
   "version": "3.11.0"
  },
  "orig_nbformat": 4,
  "vscode": {
   "interpreter": {
    "hash": "4b0513afd20a5cc577fca9da950d42d1e3c742e55e08a19f57b01f1278df70cd"
   }
  }
 },
 "nbformat": 4,
 "nbformat_minor": 2
}
